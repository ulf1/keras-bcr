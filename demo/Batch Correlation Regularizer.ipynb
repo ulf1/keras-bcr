{
 "cells": [
  {
   "cell_type": "markdown",
   "id": "b115e0fc-26d4-407a-a5cd-eb35988855d8",
   "metadata": {},
   "source": [
    "# Batch Correlation Regularizer"
   ]
  },
  {
   "cell_type": "code",
   "execution_count": 1,
   "id": "728f8e10-d3e5-4532-b5e2-6c28e1b87f80",
   "metadata": {},
   "outputs": [],
   "source": [
    "import sys\n",
    "sys.path.append('..')"
   ]
  },
  {
   "cell_type": "code",
   "execution_count": 2,
   "id": "cb09b757-b19a-44c4-bbd5-bace3e631c12",
   "metadata": {},
   "outputs": [],
   "source": [
    "from keras_bcr import BatchCorrRegularizer\n",
    "import tensorflow as tf\n",
    "\n",
    "class MyResNetBlock(tf.keras.layers.Layer):\n",
    "    def __init__(self, n_units=128, bcr_rate=1e-6):\n",
    "        super(MyResNetBlock, self).__init__()\n",
    "        self.linear = tf.keras.layers.Dense(n_units)\n",
    "        self.normal = tf.keras.layers.BatchNormalization()\n",
    "        self.activ = tf.keras.layers.Activation('gelu')\n",
    "        self.bcr = BatchCorrRegularizer(bcr_rate)\n",
    "        self.add = tf.keras.layers.Add()\n",
    "    def call(self, inputs):\n",
    "        h = self.linear(inputs)\n",
    "        h = self.normal(h)\n",
    "        h = self.activ(h)\n",
    "        h = self.bcr([h, inputs])  # before Add\n",
    "        h = self.add([h, inputs])\n",
    "        return h"
   ]
  },
  {
   "cell_type": "code",
   "execution_count": 3,
   "id": "f1879bad-9d2d-4797-9bab-619a4ba3296e",
   "metadata": {},
   "outputs": [
    {
     "name": "stderr",
     "output_type": "stream",
     "text": [
      "2022-05-27 09:49:56.994384: I tensorflow/core/platform/cpu_feature_guard.cc:151] This TensorFlow binary is optimized with oneAPI Deep Neural Network Library (oneDNN) to use the following CPU instructions in performance-critical operations:  AVX2 FMA\n",
      "To enable them in other operations, rebuild TensorFlow with the appropriate compiler flags.\n"
     ]
    }
   ],
   "source": [
    "n_features = 128\n",
    "\n",
    "model = tf.keras.Sequential([\n",
    "    MyResNetBlock(n_units=n_features, bcr_rate=1.),\n",
    "    tf.keras.layers.Dense(1)\n",
    "])\n",
    "\n",
    "model.compile(\n",
    "    optimizer=tf.keras.optimizers.Adam(learning_rate=3e-4),\n",
    "    loss=tf.keras.losses.MeanSquaredError(),\n",
    "    metrics=[tf.keras.losses.MeanSquaredError()]\n",
    ")"
   ]
  },
  {
   "cell_type": "code",
   "execution_count": 4,
   "id": "50024e2f-e7fc-4305-8301-247489ed955a",
   "metadata": {},
   "outputs": [],
   "source": [
    "n_sample_size = 1000\n",
    "# X = tf.random.uniform((n_sample_size, n_features))  \n",
    "# y = tf.random.uniform((n_sample_size,))  \n",
    "\n",
    "seqlen = 64\n",
    "X = tf.random.uniform((n_sample_size, seqlen, n_features))  \n",
    "y = tf.random.uniform((n_sample_size, seqlen))  "
   ]
  },
  {
   "cell_type": "code",
   "execution_count": 5,
   "id": "00313fc6-8298-48d4-bd7a-f35b669ed31a",
   "metadata": {},
   "outputs": [
    {
     "name": "stdout",
     "output_type": "stream",
     "text": [
      "Epoch 1/10\n",
      "32/32 [==============================] - 3s 25ms/step - loss: 1.0546 - mean_squared_error: 0.8841 - batch_corr_regularizer: 0.1622\n",
      "Epoch 2/10\n",
      "32/32 [==============================] - 1s 29ms/step - loss: 0.4504 - mean_squared_error: 0.2923 - batch_corr_regularizer: 0.1608\n",
      "Epoch 3/10\n",
      "32/32 [==============================] - 1s 22ms/step - loss: 0.3940 - mean_squared_error: 0.2376 - batch_corr_regularizer: 0.1597\n",
      "Epoch 4/10\n",
      "32/32 [==============================] - 0s 15ms/step - loss: 0.3754 - mean_squared_error: 0.2206 - batch_corr_regularizer: 0.1582\n",
      "Epoch 5/10\n",
      "32/32 [==============================] - 0s 14ms/step - loss: 0.3634 - mean_squared_error: 0.2096 - batch_corr_regularizer: 0.1575\n",
      "Epoch 6/10\n",
      "32/32 [==============================] - 1s 16ms/step - loss: 0.3530 - mean_squared_error: 0.1998 - batch_corr_regularizer: 0.1567\n",
      "Epoch 7/10\n",
      "32/32 [==============================] - 0s 14ms/step - loss: 0.3432 - mean_squared_error: 0.1910 - batch_corr_regularizer: 0.1562\n",
      "Epoch 8/10\n",
      "32/32 [==============================] - 1s 23ms/step - loss: 0.3340 - mean_squared_error: 0.1825 - batch_corr_regularizer: 0.1554\n",
      "Epoch 9/10\n",
      "32/32 [==============================] - 0s 14ms/step - loss: 0.3253 - mean_squared_error: 0.1740 - batch_corr_regularizer: 0.1549\n",
      "Epoch 10/10\n",
      "32/32 [==============================] - 1s 18ms/step - loss: 0.3170 - mean_squared_error: 0.1667 - batch_corr_regularizer: 0.1543\n"
     ]
    },
    {
     "data": {
      "text/plain": [
       "<keras.callbacks.History at 0x7f969663e690>"
      ]
     },
     "execution_count": 5,
     "metadata": {},
     "output_type": "execute_result"
    }
   ],
   "source": [
    "model.fit(X, y, epochs=10)"
   ]
  },
  {
   "cell_type": "code",
   "execution_count": null,
   "id": "af7015eb-d6c3-4ba8-9726-d1ff4ced14f7",
   "metadata": {},
   "outputs": [],
   "source": []
  }
 ],
 "metadata": {
  "kernelspec": {
   "display_name": "Python 3 (ipykernel)",
   "language": "python",
   "name": "python3"
  },
  "language_info": {
   "codemirror_mode": {
    "name": "ipython",
    "version": 3
   },
   "file_extension": ".py",
   "mimetype": "text/x-python",
   "name": "python",
   "nbconvert_exporter": "python",
   "pygments_lexer": "ipython3",
   "version": "3.7.9"
  }
 },
 "nbformat": 4,
 "nbformat_minor": 5
}
